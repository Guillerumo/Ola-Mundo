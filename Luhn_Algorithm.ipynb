{
  "nbformat": 4,
  "nbformat_minor": 0,
  "metadata": {
    "colab": {
      "provenance": [],
      "authorship_tag": "ABX9TyP5xdzLYw91U41kzhYGMqfX",
      "include_colab_link": true
    },
    "kernelspec": {
      "name": "python3",
      "display_name": "Python 3"
    },
    "language_info": {
      "name": "python"
    }
  },
  "cells": [
    {
      "cell_type": "markdown",
      "metadata": {
        "id": "view-in-github",
        "colab_type": "text"
      },
      "source": [
        "<a href=\"https://colab.research.google.com/github/Guillerumo/Ola-Mundo/blob/main/Luhn_Algorithm.ipynb\" target=\"_parent\"><img src=\"https://colab.research.google.com/assets/colab-badge.svg\" alt=\"Open In Colab\"/></a>"
      ]
    },
    {
      "cell_type": "code",
      "execution_count": 5,
      "metadata": {
        "id": "w-5TIcT0FPQZ"
      },
      "outputs": [],
      "source": [
        "def verify_card_number(card_number):\n",
        "    sum_of_odd_digits = 0\n",
        "    card_number_reversed = card_number[::-1]\n",
        "    odd_digits = card_number_reversed[::2]\n",
        "\n",
        "    for digit in odd_digits:\n",
        "        sum_of_odd_digits += int(digit)\n",
        "\n",
        "    sum_of_even_digits = 0\n",
        "    even_digits = card_number_reversed[1::2]\n",
        "    for digit in even_digits:\n",
        "        number = int(digit) * 2\n",
        "        if number >= 10:\n",
        "            number = (number // 10) + (number % 10)\n",
        "        sum_of_even_digits += number\n",
        "    total = sum_of_odd_digits + sum_of_even_digits\n",
        "    return total % 10 == 0\n"
      ]
    },
    {
      "cell_type": "code",
      "source": [
        "def main():\n",
        "    card_number = '4111-1111-4555-1142'\n",
        "    card_translation = str.maketrans({'-': '', ' ': ''})\n",
        "    translated_card_number = card_number.translate(card_translation)\n",
        "\n",
        "    if verify_card_number(translated_card_number):\n",
        "        print('VALID!')\n",
        "    else:\n",
        "        print('INVALID!')\n",
        "\n",
        "main()"
      ],
      "metadata": {
        "colab": {
          "base_uri": "https://localhost:8080/"
        },
        "id": "8k6oRHDsMt9l",
        "outputId": "d2e8666f-eedb-4931-81a1-01a31abcc97c"
      },
      "execution_count": 6,
      "outputs": [
        {
          "output_type": "stream",
          "name": "stdout",
          "text": [
            "VALID!\n"
          ]
        }
      ]
    }
  ]
}